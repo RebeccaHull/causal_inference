{
  "cells": [
    {
      "cell_type": "markdown",
      "metadata": {},
      "source": [
        "---\n",
        "title: \"My Project Report\"\n",
        "format: gfm\n",
        "---\n",
        "\n",
        "\n",
        "## Milestone 1: Project Idea\n",
        "\n",
        "Lorem ipsum odor amet, consectetuer adipiscing elit. Sit eu class placerat erat nostra. Dictum sed nibh amet vel sollicitudin curabitur himenaeos ante. Gravida risus conubia per ultrices ligula nascetur. Nam fusce amet ad ante sed aenean! Quis lacus vulputate bibendum facilisi condimentum sit.\n",
        "\n",
        "## Milestone 2: Data Story\n",
        "\n",
        "Lorem ipsum odor amet, consectetuer adipiscing elit. Sit eu class placerat erat nostra. Dictum sed nibh amet vel sollicitudin curabitur himenaeos ante. Gravida risus conubia per ultrices ligula nascetur. Nam fusce amet ad ante sed aenean! Quis lacus vulputate bibendum facilisi condimentum sit.\n",
        "\n",
        "Mauris volutpat iaculis enim nam taciti est ipsum dui. Eu facilisi erat euismod per nulla lacus. Neque duis bibendum conubia class fusce fames. Ultrices ultricies in hac ornare platea. Aliquam sociosqu habitant conubia porta sagittis sociosqu aenean? Nunc eget accumsan nunc lacus, urna lacus? Est quisque quis iaculis phasellus nisl. Purus nisi cursus convallis, tristique mauris sagittis nibh.\n",
        "\n",
        "## Milestone 3: DAG\n",
        "\n",
        "\n",
        "```{mermaid}\n",
        "flowchart LR\n",
        "  A(A) --> B(B)\n",
        "  A --> C(C)\n",
        "  C --> B\n",
        "  D(D) --> Y\n",
        "  B --> Y{Y}\n",
        "```\n",
        "\n",
        "\n",
        "## Milestone 4: Identification Strategy\n",
        "\n",
        "Here's my adjustment set following the backdoor criteria:\n",
        "\n",
        "- Lorem ipsum odor amet, consectetuer adipiscing elit.\n",
        "- Euismod a inceptos torquent laoreet dapibus quis quam laoreet.\n",
        "- Magnis lacinia ante aliquam posuere parturient lobortis.\n",
        "\n",
        "## Milestone 5: Simulate Data and Recover Parameters\n"
      ],
      "id": "b140e760"
    },
    {
      "cell_type": "code",
      "metadata": {},
      "source": [
        "import numpy as np\n",
        "import polars as pl\n",
        "import seaborn.objects as so\n",
        "from sklearn.linear_model import LinearRegression\n",
        "\n",
        "np.random.seed(42)\n",
        "\n",
        "# Set the parameter values.\n",
        "beta0 = 3\n",
        "beta1 = 7\n",
        "n = 100\n",
        "\n",
        "sim_data = (\n",
        "    # Simulate predictors using appropriate np.random distributions.\n",
        "    pl.DataFrame({\n",
        "        'x': np.random.uniform(0, 7, size = n)\n",
        "    })\n",
        "    # Use predictors and parameter values to simulate the outome.\n",
        "    .with_columns([\n",
        "        (beta0 + beta1 * pl.col('x') + np.random.normal(0, 3, size = n)).alias('y')\n",
        "    ])\n",
        ")\n",
        "\n",
        "sim_data\n",
        "\n",
        "# Specify the X matrix and y vector.\n",
        "X = sim_data[['x']]\n",
        "y = sim_data['y']\n",
        "\n",
        "# Create a linear regression model.\n",
        "model = LinearRegression(fit_intercept=True)\n",
        "\n",
        "# Train the model.\n",
        "model.fit(X, y)\n",
        "\n",
        "# Print the coefficients\n",
        "print(f'Intercept: {model.intercept_}')\n",
        "print(f'Slope: {model.coef_[0]}')\n",
        "\n",
        "# Have you recovered the parameters?"
      ],
      "id": "85554003",
      "execution_count": null,
      "outputs": []
    },
    {
      "cell_type": "markdown",
      "metadata": {},
      "source": [
        "Lorem ipsum odor amet, consectetuer adipiscing elit. Sagittis interdum fringilla sagittis platea eget dictum sodales non. Nec arcu porta felis eros sem accumsan? Sit quis ridiculus, ligula dictum ex luctus.\n",
        "\n",
        "## Milestone 6: Exploratory Data Analysis\n",
        "\n",
        "Aliquam sociosqu habitant conubia porta sagittis sociosqu aenean? Nunc eget accumsan nunc lacus, urna lacus? Est quisque quis iaculis phasellus nisl. Purus nisi cursus convallis, tristique mauris sagittis nibh.\n"
      ],
      "id": "0b027bf5"
    },
    {
      "cell_type": "code",
      "metadata": {},
      "source": [
        "#| eval: false\n",
        "(so.Plot(sim_data, x = 'x', y = 'y')\n",
        "  .add(so.Dot(pointsize = 10, alpha = 0.5))\n",
        ")"
      ],
      "id": "df901476",
      "execution_count": null,
      "outputs": []
    },
    {
      "cell_type": "markdown",
      "metadata": {},
      "source": [
        "![](../figures/sim-data-01.png){fig-align=\"center\"}\n",
        "\n",
        "Mauris volutpat iaculis enim nam taciti est ipsum dui.\n",
        "\n",
        "## Milestone 7: Estimate Causal Effects\n"
      ],
      "id": "56695059"
    },
    {
      "cell_type": "code",
      "metadata": {},
      "source": [
        "# eval: false\n",
        "import bambi as bmb\n",
        "import arviz as az\n",
        "\n",
        "# Import foxes data.\n",
        "foxes = pl.read_csv('../data/foxes.csv')\n",
        "\n",
        "# Use Bambi to estimate the direct causal effect of avgfood on weight.\n",
        "bambi_model_01 = bmb.Model('weight ~ avgfood + groupsize', foxes.to_pandas())\n",
        "bambi_model_01"
      ],
      "id": "8dc1e795",
      "execution_count": null,
      "outputs": []
    },
    {
      "cell_type": "markdown",
      "metadata": {},
      "source": [
        "```\n",
        "       Formula: weight ~ avgfood + groupsize\n",
        "        Family: gaussian\n",
        "          Link: mu = identity\n",
        "  Observations: 116\n",
        "        Priors: \n",
        "    target = mu\n",
        "        Common-level effects\n",
        "            Intercept ~ Normal(mu: -0.0, sigma: 2.4892)\n",
        "            avgfood ~ Normal(mu: 0.0, sigma: 2.5)\n",
        "            groupsize ~ Normal(mu: 0.0, sigma: 2.5)\n",
        "        \n",
        "        Auxiliary parameters\n",
        "            sigma ~ HalfStudentT(nu: 4.0, sigma: 0.9957)\n",
        "```\n"
      ],
      "id": "1bd7e281"
    },
    {
      "cell_type": "code",
      "metadata": {},
      "source": [
        "#| eval: false\n",
        "# Calls pm.sample().\n",
        "bambi_fit_01 = bambi_model_01.fit()\n",
        "az.plot_trace(bambi_fit_01, compact = False)"
      ],
      "id": "ca75f364",
      "execution_count": null,
      "outputs": []
    },
    {
      "cell_type": "markdown",
      "metadata": {},
      "source": [
        "![](../figures/multilevel-models_plot-01.png){fig-align=\"center\"}\n"
      ],
      "id": "be787b67"
    },
    {
      "cell_type": "code",
      "metadata": {},
      "source": [
        "#| eval: false\n",
        "# Visualize marginal posteriors.\n",
        "az.plot_forest(bambi_fit_01, var_names = ['avgfood', 'groupsize'], combined = True, hdi_prob = 0.95)"
      ],
      "id": "31c71631",
      "execution_count": null,
      "outputs": []
    },
    {
      "cell_type": "markdown",
      "metadata": {},
      "source": [
        "![](../figures/multilevel-models_plot-02.png){fig-align=\"center\"}\n",
        "\n",
        "Controlling for group size, average food has a positive impact on fox weight.\n",
        "\n",
        "## Milestone 8: Intermediate Presentation\n",
        "\n",
        "See my intermediate presentation [slides](https://github.com/marcdotson/causal-inference/blob/main/presentations/multivariate-models.html). To summarize some feedback:\n",
        "\n",
        "- Lorem ipsum dolor sit amet, consectetur adipiscing elit, sed do eiusmod tempor incididunt ut labore et dolore magna aliqua.\n",
        "- Ut enim ad minim veniam, quis nostrud exercitation ullamco laboris nisi ut aliquip ex ea commodo consequat.\n",
        "- Duis aute irure dolor in reprehenderit in voluptate velit esse cillum dolore eu fugiat nulla pariatur.\n",
        "- Excepteur sint occaecat cupidatat non proident, sunt in culpa qui officia deserunt mollit anim id est laborum."
      ],
      "id": "73106709"
    }
  ],
  "metadata": {
    "kernelspec": {
      "name": "python3",
      "language": "python",
      "display_name": "Python 3 (ipykernel)",
      "path": "C:\\Users\\rhigb\\anaconda3\\envs\\pymc_env\\share\\jupyter\\kernels\\python3"
    }
  },
  "nbformat": 4,
  "nbformat_minor": 5
}